{
 "cells": [
  {
   "cell_type": "code",
   "execution_count": null,
   "metadata": {},
   "outputs": [],
   "source": [
    "# %load work_money.py\n",
    "\"\"\"\n",
    "Created on Tue Apr  2 22:35:23 2019\n",
    "\n",
    "@author: user\n",
    "\"\"\"\n",
    "\n",
    "\n",
    "class Money(object):  # 計算月薪    \n",
    "    def __init__(self, hr, day):        \n",
    "        self.hr = hr\n",
    "        self.day = day       \n",
    "    \n",
    "    def getMoney_hr(self): # 時薪\n",
    "        return self.Money_hr\n",
    "    \n",
    "    def setMoney_hr(self, Money_hr):\n",
    "        self.Money_hr = Money_hr\n",
    "        \n",
    "    def __str__(self):\n",
    "        \"\"\"\n",
    "        月薪 = 時薪(self.Money_hr) * 小時(self.hr) * 天數(self.day)\n",
    "        \"\"\"\n",
    "        return '月薪 = ' + str(float(self.Money_hr * self.hr * self.day))\n",
    "    \n",
    "    def __sub__(self, other):  # 兩份工作行情的比較\n",
    "        return str(float(self.Money_hr * self.hr *self.day \\\n",
    "                        - other.Money_hr * other.hr *other.day))\n",
    "\n",
    "\n",
    " ##使用參考指令:\n",
    "a = Money(9, 26)\n",
    "b = Money(9, 22)\n",
    "a.setMoney_hr(120)\n",
    "b.setMoney_hr(150)\n",
    "print(a)\n",
    "print(b)\n",
    "print('相差: ' + (a.__sub__(b)))  # 計算兩份工作行情的比較\n"
   ]
  },
  {
   "cell_type": "code",
   "execution_count": null,
   "metadata": {},
   "outputs": [],
   "source": [
    "class Money_hr(Money):  # 計算時薪\n",
    "\n",
    "   def __inti__(self, hr, day):\n",
    "      \n",
    "       Money.__inti__(self, hr, day)       \n",
    "   \n",
    "   def getMoney_month(self):\n",
    "       return self.Money_month\n",
    "   \n",
    "   def setMoney_month(self, Money_month):\n",
    "       self.Money_month = Money_month\n",
    "\n",
    "   def __str__(self):\n",
    "       \"\"\"\n",
    "       時薪 = 月薪 (self.Money_month) / 小時 (self.hr) * 天數 (self.day)\n",
    "       \"\"\"\n",
    "       return '時薪 =' + str(float(self.Money_month / (self.hr *self.day)))\n",
    "  \n",
    "   def __sub__(self, other):  # 兩份工作行情的比較\n",
    "       return str(float(self.Money_month / (self.hr *self.day) \\\n",
    "                        - other.Money_month / (other.hr *other.day)))\n",
    "\n",
    "#使用參考指令:\n",
    "c = Money_hr(9, 26)\n",
    "d = Money_hr(9, 22)\n",
    "c.setMoney_month(28000)\n",
    "d.setMoney_month(25000)\n",
    "print(c)\n",
    "print(d)\n",
    "print('相差:' + (a.__sub__(b))) # 計算兩份工作行情的比較"
   ]
  }
 ],
 "metadata": {
  "kernelspec": {
   "display_name": "Python 3",
   "language": "python",
   "name": "python3"
  },
  "language_info": {
   "codemirror_mode": {
    "name": "ipython",
    "version": 3
   },
   "file_extension": ".py",
   "mimetype": "text/x-python",
   "name": "python",
   "nbconvert_exporter": "python",
   "pygments_lexer": "ipython3",
   "version": "3.6.5"
  }
 },
 "nbformat": 4,
 "nbformat_minor": 2
}
